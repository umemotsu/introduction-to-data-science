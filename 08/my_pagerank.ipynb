{
 "cells": [
  {
   "cell_type": "markdown",
   "metadata": {},
   "source": [
    "# PageRankを自分で実装してみる"
   ]
  },
  {
   "cell_type": "code",
   "execution_count": 1,
   "metadata": {},
   "outputs": [],
   "source": [
    "# 必要パッケージのインポートと不思議なおまじない\n",
    "\n",
    "import matplotlib.pyplot as plt\n",
    "import numpy as np\n",
    "# np.random.seed(0)\n",
    "import sklearn as sl\n",
    "import pandas as pd\n",
    "import seaborn as sns\n",
    "import scipy as sp\n",
    "import gensim\n",
    "import networkx as nx\n",
    "\n",
    "%matplotlib inline"
   ]
  },
  {
   "cell_type": "code",
   "execution_count": 2,
   "metadata": {},
   "outputs": [],
   "source": [
    "def pagerank(M, alpha=0.85, max_iter=100, tol=1e-06):\n",
    "    D = M.shape[0]  # 文書数\n",
    "    v = np.ones(D)\n",
    "    v = v / v.sum()  # 初期値（一様分布）\n",
    "    for _ in range(max_iter):\n",
    "        v_prev = v\n",
    "        v = alpha * M @ v + (1 - alpha) / D * np.ones(D)\n",
    "        err = abs(v - v_prev).sum()\n",
    "        if err / D < tol:\n",
    "            return v\n",
    "    raise Exception('Not converged')"
   ]
  },
  {
   "cell_type": "code",
   "execution_count": 3,
   "metadata": {},
   "outputs": [],
   "source": [
    "M = np.array([\n",
    "    [0.0, 1.0, 0.0],\n",
    "    [0.5, 0.0, 1.0],\n",
    "    [0.5, 0.0, 0.0],\n",
    "])"
   ]
  },
  {
   "cell_type": "code",
   "execution_count": 4,
   "metadata": {},
   "outputs": [
    {
     "data": {
      "text/plain": [
       "array([0.38778944, 0.39740004, 0.21481051])"
      ]
     },
     "execution_count": 4,
     "metadata": {},
     "output_type": "execute_result"
    }
   ],
   "source": [
    "pagerank(M, alpha=0.85)"
   ]
  },
  {
   "cell_type": "markdown",
   "metadata": {},
   "source": [
    "NetworkXライブラリを用いた結果と同じになったので良さげ"
   ]
  }
 ],
 "metadata": {
  "kernelspec": {
   "display_name": "Python 3",
   "language": "python",
   "name": "python3"
  },
  "language_info": {
   "codemirror_mode": {
    "name": "ipython",
    "version": 3
   },
   "file_extension": ".py",
   "mimetype": "text/x-python",
   "name": "python",
   "nbconvert_exporter": "python",
   "pygments_lexer": "ipython3",
   "version": "3.6.1"
  }
 },
 "nbformat": 4,
 "nbformat_minor": 2
}
