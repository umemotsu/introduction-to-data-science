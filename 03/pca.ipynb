{
 "cells": [
  {
   "cell_type": "markdown",
   "metadata": {},
   "source": [
    "# Princle Component Analysis\n",
    "\n",
    "\n",
    "題材: 参考書（東京大学のデータサイエンス育成講座）の9章"
   ]
  },
  {
   "cell_type": "code",
   "execution_count": 39,
   "metadata": {},
   "outputs": [],
   "source": [
    "# 必要パッケージのインポートと不思議なおまじない\n",
    "\n",
    "import matplotlib.pyplot as plt\n",
    "import numpy as np\n",
    "np.random.seed(0)\n",
    "import sklearn as sl\n",
    "import pandas as pd\n",
    "import seaborn as sns\n",
    "\n",
    "%matplotlib inline"
   ]
  },
  {
   "cell_type": "markdown",
   "metadata": {},
   "source": [
    "## 人工データで試す"
   ]
  },
  {
   "cell_type": "markdown",
   "metadata": {},
   "source": [
    "### データ作成"
   ]
  },
  {
   "cell_type": "code",
   "execution_count": 33,
   "metadata": {
    "scrolled": true
   },
   "outputs": [
    {
     "name": "stdout",
     "output_type": "stream",
     "text": [
      "head: [[-0.71145926 -1.03581058]\n",
      " [-0.42131274 -1.14876749]\n",
      " [-0.57035856 -1.26207862]\n",
      " [ 0.05172784 -0.12411592]\n",
      " [ 0.38326188  0.5852725 ]\n",
      " [-0.31555975 -0.73055933]\n",
      " [ 0.33253753  1.06147502]\n",
      " [ 0.78454864  0.47017237]\n",
      " [ 0.09254449  0.05471621]\n",
      " [ 0.86733882  0.69659102]]\n",
      "mean: [0.03041437 0.02291652]\n",
      "var: [0.21721902 0.45353628]\n"
     ]
    }
   ],
   "source": [
    "X = np.dot(np.random.rand(2, 2), np.random.randn(2, 200)).T\n",
    "print('head:', X[:10])\n",
    "print('mean:', X.mean(axis=0))\n",
    "print('var:', X.var(axis=0))"
   ]
  },
  {
   "cell_type": "code",
   "execution_count": 40,
   "metadata": {},
   "outputs": [
    {
     "name": "stdout",
     "output_type": "stream",
     "text": [
      "head: [[-1.59177256 -1.5720922 ]\n",
      " [-0.96923086 -1.73982067]\n",
      " [-1.28902527 -1.90807511]\n",
      " [ 0.04573042 -0.21832686]\n",
      " [ 0.75707364  0.83503619]\n",
      " [-0.74232603 -1.11882798]\n",
      " [ 0.6482389   1.54214406]\n",
      " [ 1.61807911  0.66412528]\n",
      " [ 0.1333071   0.04721901]\n",
      " [ 1.79571468  1.00033184]]\n",
      "mean: [2.22044605e-18 2.22044605e-17]\n",
      "var: [1. 1.]\n"
     ]
    }
   ],
   "source": [
    "from sklearn.preprocessing import StandardScaler\n",
    "sc = sl.preprocessing.StandardScaler()\n",
    "X_std = sc.fit_transform(X)\n",
    "print('head:', X_std[:10])\n",
    "print('mean:', X_std.mean(axis=0))\n",
    "print('var:', X_std.var(axis=0))"
   ]
  },
  {
   "cell_type": "markdown",
   "metadata": {},
   "source": [
    "### データ確認"
   ]
  },
  {
   "cell_type": "code",
   "execution_count": 35,
   "metadata": {},
   "outputs": [
    {
     "data": {
      "text/plain": [
       "<matplotlib.collections.PathCollection at 0x11c907f60>"
      ]
     },
     "execution_count": 35,
     "metadata": {},
     "output_type": "execute_result"
    },
    {
     "data": {
      "image/png": "[encoded data removed]",
      "text/plain": [
       "<Figure size 432x288 with 1 Axes>"
      ]
     },
     "metadata": {
      "needs_background": "light"
     },
     "output_type": "display_data"
    }
   ],
   "source": [
    "plt.scatter(X_std[:, 0], X_std[:, 1])"
   ]
  },
  {
   "cell_type": "code",
   "execution_count": 37,
   "metadata": {
    "scrolled": true
   },
   "outputs": [
    {
     "name": "stdout",
     "output_type": "stream",
     "text": [
      "相関係数: 0.8394521890125743\n"
     ]
    }
   ],
   "source": [
    "print('相関係数:', sp.stats.pearsonr(X_std[:, 0], X_std[:, 1])[0])"
   ]
  },
  {
   "cell_type": "markdown",
   "metadata": {},
   "source": [
    "### 主成分分析"
   ]
  },
  {
   "cell_type": "code",
   "execution_count": 42,
   "metadata": {},
   "outputs": [
    {
     "data": {
      "text/plain": [
       "PCA(copy=True, iterated_power='auto', n_components=2, random_state=None,\n",
       "    svd_solver='auto', tol=0.0, whiten=False)"
      ]
     },
     "execution_count": 42,
     "metadata": {},
     "output_type": "execute_result"
    }
   ],
   "source": [
    "from sklearn.decomposition import PCA\n",
    "\n",
    "pca = PCA(n_components=2)\n",
    "pca.fit(X_std)"
   ]
  },
  {
   "cell_type": "code",
   "execution_count": 47,
   "metadata": {},
   "outputs": [
    {
     "name": "stdout",
     "output_type": "stream",
     "text": [
      "固有ベクトル: [[ 0.70710678  0.70710678]\n",
      " [ 0.70710678 -0.70710678]]\n",
      "固有値（＝各主成分の分散）: [1.84869567 0.16135458]\n",
      "寄与率: [0.91972609 0.08027391]\n"
     ]
    }
   ],
   "source": [
    "print('固有ベクトル:', pca.components_)\n",
    "print('固有値（＝各主成分の分散）:', pca.explained_variance_)\n",
    "print('寄与率:', pca.explained_variance_ratio_)"
   ]
  },
  {
   "cell_type": "markdown",
   "metadata": {},
   "source": [
    "### 可視化"
   ]
  },
  {
   "cell_type": "code",
   "execution_count": 63,
   "metadata": {},
   "outputs": [
    {
     "data": {
      "text/plain": [
       "(-2.7437143780282294,\n",
       " 2.5686713979664018,\n",
       " -2.7622504420544005,\n",
       " 2.5985605312226845)"
      ]
     },
     "execution_count": 63,
     "metadata": {},
     "output_type": "execute_result"
    },
    {
     "data": {
      "image/png": "[encoded data removed]",
      "text/plain": [
       "<Figure size 432x288 with 1 Axes>"
      ]
     },
     "metadata": {
      "needs_background": "light"
     },
     "output_type": "display_data"
    }
   ],
   "source": [
    "arrowprops = {'arrowstyle': '->', 'linewidth': 2, 'shrinkA': 0, 'shrinkB': 0}\n",
    "def draw_vector(v0, v1):\n",
    "    plt.gca().annotate('', v1, v0, arrowprops=arrowprops)\n",
    "\n",
    "plt.scatter(X_std[:, 0], X_std[:, 1], alpha=0.2)\n",
    "\n",
    "for eigen_value, eigen_vector in zip(pca.explained_variance_, pca.components_):\n",
    "    v = eigen_vector * np.sqrt(eigen_value)\n",
    "    draw_vector(pca.mean_, pca.mean_ + v)\n",
    "\n",
    "plt.axis('equal')"
   ]
  }
 ],
 "metadata": {
  "kernelspec": {
   "display_name": "Python 3",
   "language": "python",
   "name": "python3"
  },
  "language_info": {
   "codemirror_mode": {
    "name": "ipython",
    "version": 3
   },
   "file_extension": ".py",
   "mimetype": "text/x-python",
   "name": "python",
   "nbconvert_exporter": "python",
   "pygments_lexer": "ipython3",
   "version": "3.6.1"
  }
 },
 "nbformat": 4,
 "nbformat_minor": 2
}
